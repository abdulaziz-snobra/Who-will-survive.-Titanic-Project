{
 "cells": [
  {
   "cell_type": "markdown",
   "id": "8bfd7c25-00d1-4cd8-bec1-b2e723efc344",
   "metadata": {},
   "source": [
    "# Titanic: Who will survive"
   ]
  },
  {
   "cell_type": "markdown",
   "id": "f6293edd-5254-4b49-ae90-30b8f9ce231c",
   "metadata": {},
   "source": [
    "## Importing Libraries & Dataset"
   ]
  },
  {
   "cell_type": "code",
   "execution_count": null,
   "id": "dae02d9b-a33d-4131-8019-28646eb996ba",
   "metadata": {},
   "outputs": [],
   "source": [
    "import numpy\n",
    "import pandas\n",
    "import sklearn\n"
   ]
  }
 ],
 "metadata": {
  "kernelspec": {
   "display_name": "Python 3 (ipykernel)",
   "language": "python",
   "name": "python3"
  },
  "language_info": {
   "codemirror_mode": {
    "name": "ipython",
    "version": 3
   },
   "file_extension": ".py",
   "mimetype": "text/x-python",
   "name": "python",
   "nbconvert_exporter": "python",
   "pygments_lexer": "ipython3",
   "version": "3.10.14"
  }
 },
 "nbformat": 4,
 "nbformat_minor": 5
}
